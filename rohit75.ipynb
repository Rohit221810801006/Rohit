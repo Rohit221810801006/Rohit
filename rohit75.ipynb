{
 "cells": [
  {
   "cell_type": "markdown",
   "metadata": {},
   "source": [
    "### Standard Libaries\n",
    "\n",
    "* File I/O\n",
    "* Regular Expresssion\n",
    "* Datetime\n",
    "* Math (numerical and Mathematical)"
   ]
  },
  {
   "cell_type": "markdown",
   "metadata": {},
   "source": [
    "### String Functions\n",
    "\n",
    "* Classic version\n",
    "* Current version"
   ]
  },
  {
   "cell_type": "markdown",
   "metadata": {},
   "source": [
    "### File Handling in Python\n",
    "\n",
    "* File - Document contatinig information resides on the permenant storage\n",
    "* Different types of Files - txt.doc,pdf,csv and etc....\n",
    "*  Input- keyboard\n",
    "* Output-File\n",
    "### Modes Of the File I/O\n",
    "* 'w' -- This mode is used to write the file\n",
    "\n"
   ]
  },
  {
   "cell_type": "code",
   "execution_count": 13,
   "metadata": {},
   "outputs": [
    {
     "name": "stdout",
     "output_type": "stream",
     "text": [
      "file is created and data has written\n",
      "file is created and data has written\n",
      "file is created and data has written\n",
      "file is created and data has written\n",
      "file is created and data has written\n",
      "file is created and data has written\n",
      "file is created and data has written\n",
      "file is created and data has written\n",
      "file is created and data has written\n",
      "file is created and data has written\n"
     ]
    }
   ],
   "source": [
    "# Fuction to create a file and wirte to the file\n",
    "def createfile(filename):\n",
    "    f = open(filename,'w')\n",
    "    for i in range(10):\n",
    "        f.write('this is %d line' % i)\n",
    "        print(\"file is created and data has written\")\n",
    "    return\n",
    "createfile('file1.txt')"
   ]
  },
  {
   "cell_type": "code",
   "execution_count": 11,
   "metadata": {},
   "outputs": [
    {
     "name": "stdout",
     "output_type": "stream",
     "text": [
      " Volume in drive C has no label.\n",
      " Volume Serial Number is 0024-3261\n",
      "\n",
      " Directory of C:\\Users\\student\n",
      "\n",
      "11-07-2019  09:24    <DIR>          .\n",
      "11-07-2019  09:24    <DIR>          ..\n",
      "21-06-2019  15:32    <DIR>          .anaconda\n",
      "25-06-2019  16:08               572 .bash_history\n",
      "29-06-2019  15:18    <DIR>          .conda\n",
      "29-06-2019  09:04                43 .condarc\n",
      "29-06-2019  10:31    <DIR>          .idlerc\n",
      "11-07-2019  09:18    <DIR>          .ipynb_checkpoints\n",
      "21-06-2019  15:33    <DIR>          .ipython\n",
      "22-06-2019  09:13    <DIR>          .jupyter\n",
      "28-06-2019  15:28    <DIR>          .matplotlib\n",
      "21-06-2019  17:20             6,583 anaconda.ipynb\n",
      "22-06-2019  12:48             9,091 anaconda23.ipynb\n",
      "21-06-2019  15:32    <DIR>          Anaconda3\n",
      "21-06-2019  17:10             6,289 anaconda-Copy1.ipynb\n",
      "18-06-2019  09:03    <DIR>          Contacts\n",
      "22-06-2019  15:13            11,183 control flow statement.ipynb\n",
      "22-06-2019  15:24            11,183 control flow statement-Copy1.ipynb\n",
      "22-06-2019  15:37            11,612 controlflow.ipynb\n",
      "05-07-2019  11:00    <DIR>          Desktop\n",
      "05-07-2019  15:21    <DIR>          Documents\n",
      "05-07-2019  14:28    <DIR>          Downloads\n",
      "18-06-2019  09:03    <DIR>          Favorites\n",
      "11-07-2019  09:25               140 file.txt\n",
      "11-07-2019  09:22                 0 file1.txt\n",
      "27-06-2019  17:07               440 file2.txt\n",
      "10-07-2019  16:46            24,971 ghum.ipynb\n",
      "10-07-2019  16:45            24,971 hub.ipynb\n",
      "24-06-2019  17:14            14,929 june 24.ipynb\n",
      "25-06-2019  12:12             9,074 june 25.ipynb\n",
      "25-06-2019  15:52             4,133 JUNE 25-2.ipynb\n",
      "26-06-2019  17:03            17,876 JUNE 26.ipynb\n",
      "27-06-2019  17:08            11,010 june 27.ipynb\n",
      "28-06-2019  16:52            13,717 june 28.ipynb\n",
      "29-06-2019  12:20             4,955 june 29.ipynb\n",
      "18-06-2019  09:03    <DIR>          Links\n",
      "18-06-2019  09:03    <DIR>          Music\n",
      "24-06-2019  15:52            13,138 phython 24.06 .ipynb\n",
      "18-06-2019  09:03    <DIR>          Pictures\n",
      "08-07-2019  15:49            19,753 rohit 77.ipynb\n",
      "10-07-2019  12:37             8,223 rohit100.ipynb\n",
      "10-07-2019  16:39            24,971 Rohit50.ipynb\n",
      "11-07-2019  09:24             4,323 rohit75.ipynb\n",
      "10-07-2019  16:47            24,971 Rohith.ipynb\n",
      "18-06-2019  09:03    <DIR>          Saved Games\n",
      "22-06-2019  09:33    <DIR>          Searches\n",
      "21-06-2019  17:09             6,289 Untitled.ipynb\n",
      "21-06-2019  15:57               798 Untitled1.ipynb\n",
      "22-06-2019  11:30                72 Untitled2.ipynb\n",
      "26-06-2019  14:38             2,264 Untitled3.ipynb\n",
      "29-06-2019  09:04                72 Untitled4.ipynb\n",
      "29-06-2019  09:07               555 Untitled5.ipynb\n",
      "06-07-2019  10:37             3,019 Untitled6.ipynb\n",
      "08-07-2019  10:55             9,350 Untitled7.ipynb\n",
      "09-07-2019  10:04             5,046 Untitled8.ipynb\n",
      "11-07-2019  09:18             1,422 Untitled9.ipynb\n",
      "18-06-2019  09:03    <DIR>          Videos\n",
      "              36 File(s)        307,038 bytes\n",
      "              21 Dir(s)  128,705,261,568 bytes free\n"
     ]
    }
   ],
   "source": [
    "ls"
   ]
  },
  {
   "cell_type": "code",
   "execution_count": 16,
   "metadata": {},
   "outputs": [
    {
     "name": "stdout",
     "output_type": "stream",
     "text": [
      "file is created and data has written\n"
     ]
    }
   ],
   "source": [
    "# Fuction to create a file and wirte to the file\n",
    "def createfile(filename):\n",
    "    f = open(filename,'w')\n",
    "    f.write('Testing....\\n')\n",
    "    print(\"file is created and data has written\")\n",
    "    return\n",
    "createfile('file1.txt')"
   ]
  },
  {
   "cell_type": "code",
   "execution_count": 23,
   "metadata": {},
   "outputs": [
    {
     "name": "stdout",
     "output_type": "stream",
     "text": [
      "file is created and data has written\n"
     ]
    }
   ],
   "source": [
    "def appendData(filename):\n",
    "    f = open(filename,'a')\n",
    "    for i in range(10):\n",
    "        f.write(\"This is %d Line\\n\" % i)\n",
    "    print(\"file is created and data has written\")\n",
    "    return\n",
    "appendData('file3.txt')\n",
    "        "
   ]
  },
  {
   "cell_type": "code",
   "execution_count": 24,
   "metadata": {},
   "outputs": [
    {
     "name": "stdout",
     "output_type": "stream",
     "text": [
      "file is created and data has written\n"
     ]
    }
   ],
   "source": [
    "def createfile(filename):\n",
    "    f = open(filename,'a')\n",
    "    f.write(\"New line 1\\n\")\n",
    "    f.write(\"New line 1\\n\")\n",
    "    print(\"file is created and data has written\")\n",
    "    return\n",
    "createfile('file3.txt')"
   ]
  },
  {
   "cell_type": "code",
   "execution_count": 27,
   "metadata": {},
   "outputs": [
    {
     "name": "stdout",
     "output_type": "stream",
     "text": [
      "This is 0 Line\n",
      "This is 1 Line\n",
      "This is 2 Line\n",
      "This is 3 Line\n",
      "This is 4 Line\n",
      "This is 5 Line\n",
      "This is 6 Line\n",
      "This is 7 Line\n",
      "This is 8 Line\n",
      "This is 9 Line\n",
      "New line 1\n",
      "New line 1\n",
      "\n"
     ]
    }
   ],
   "source": [
    "# Fuction to read the file\n",
    "def readfiledata(filename):\n",
    "    f = open(filename,'r')\n",
    "    if f.mode == 'r':\n",
    "        x = f.read()\n",
    "        print(x)\n",
    "    f.close()\n",
    "    return\n",
    "readfiledata('file3.txt')"
   ]
  },
  {
   "cell_type": "code",
   "execution_count": 33,
   "metadata": {},
   "outputs": [
    {
     "name": "stdout",
     "output_type": "stream",
     "text": [
      "Enter File namefile.txt\n",
      "Enter the mode of the filer\n",
      "this is 0 linethis is 1 linethis is 2 linethis is 3 linethis is 4 linethis is 5 linethis is 6 linethis is 7 linethis is 8 linethis is 9 line\n"
     ]
    }
   ],
   "source": [
    "# Fuction to read the file\n",
    "def fileoperations(filename,mode):\n",
    "    with open(filename,mode) as f:\n",
    "        if f.mode == 'r':\n",
    "            data = f.read()\n",
    "            print(data)\n",
    "        elif f.mode == 'a':\n",
    "            f.write('data to the file')\n",
    "    return\n",
    "filename = input('Enter File name')\n",
    "mode = input('Enter the mode of the file')\n",
    "fileoperations(filename,mode)"
   ]
  },
  {
   "cell_type": "code",
   "execution_count": 42,
   "metadata": {},
   "outputs": [
    {
     "name": "stdout",
     "output_type": "stream",
     "text": [
      "enter the filename :file.txt\n"
     ]
    }
   ],
   "source": [
    "def countoflines(filename):\n",
    "   with open(filename):\n",
    "       if f.mode=='r':\n",
    "           x=f.read()\n",
    "           li=x.split(\"\\n\")\n",
    "   return len(li)\n",
    "filename=input('enter the filename :')\n",
    "\n"
   ]
  },
  {
   "cell_type": "code",
   "execution_count": null,
   "metadata": {},
   "outputs": [],
   "source": [
    "\n",
    "\n",
    "def casecount(filename):\n",
    "   cntupper=0\n",
    "   cnlower=0\n",
    "   with open(filename, 'r') as f:\n",
    "       if f.mode=='r':\n",
    "           c=f.read()\n",
    "           li=list(x)\n",
    "   for i in li:\n",
    "       if i.isupper():\n",
    "           cntupper+=1\n",
    "       elif i.islower():\n",
    "           cntlower+=1\n",
    "   output= 'upper case={0}, lower case={1}'.format(cntupper)\n",
    "   return output\n",
    "filename=input('enter the filename : ')\n",
    "casecount(filename)"
   ]
  },
  {
   "cell_type": "code",
   "execution_count": 1,
   "metadata": {},
   "outputs": [
    {
     "ename": "FileNotFoundError",
     "evalue": "[WinError 3] The system cannot find the path specified: 'Git/'",
     "output_type": "error",
     "traceback": [
      "\u001b[1;31m---------------------------------------------------------------------------\u001b[0m",
      "\u001b[1;31mFileNotFoundError\u001b[0m                         Traceback (most recent call last)",
      "\u001b[1;32m<ipython-input-1-e120d76fe920>\u001b[0m in \u001b[0;36m<module>\u001b[1;34m\u001b[0m\n\u001b[0;32m      1\u001b[0m \u001b[1;32mimport\u001b[0m \u001b[0mos\u001b[0m\u001b[1;33m\u001b[0m\u001b[1;33m\u001b[0m\u001b[0m\n\u001b[1;32m----> 2\u001b[1;33m \u001b[0mos\u001b[0m\u001b[1;33m.\u001b[0m\u001b[0mlistdir\u001b[0m\u001b[1;33m(\u001b[0m\u001b[1;34m'Git/'\u001b[0m\u001b[1;33m)\u001b[0m \u001b[1;31m# listdir() -- ls\u001b[0m\u001b[1;33m\u001b[0m\u001b[1;33m\u001b[0m\u001b[0m\n\u001b[0m",
      "\u001b[1;31mFileNotFoundError\u001b[0m: [WinError 3] The system cannot find the path specified: 'Git/'"
     ]
    }
   ],
   "source": [
    "import os\n",
    "os.listdir('Git/') # listdir() -- ls"
   ]
  },
  {
   "cell_type": "code",
   "execution_count": 2,
   "metadata": {},
   "outputs": [
    {
     "name": "stdout",
     "output_type": "stream",
     "text": [
      " Volume in drive C has no label.\n",
      " Volume Serial Number is 0024-3261\n",
      "\n",
      " Directory of C:\\Users\\student\n",
      "\n",
      "11-07-2019  12:30    <DIR>          .\n",
      "11-07-2019  12:30    <DIR>          ..\n",
      "21-06-2019  15:32    <DIR>          .anaconda\n",
      "25-06-2019  16:08               572 .bash_history\n",
      "29-06-2019  15:18    <DIR>          .conda\n",
      "29-06-2019  09:04                43 .condarc\n",
      "29-06-2019  10:31    <DIR>          .idlerc\n",
      "11-07-2019  09:18    <DIR>          .ipynb_checkpoints\n",
      "21-06-2019  15:33    <DIR>          .ipython\n",
      "22-06-2019  09:13    <DIR>          .jupyter\n",
      "28-06-2019  15:28    <DIR>          .matplotlib\n",
      "21-06-2019  17:20             6,583 anaconda.ipynb\n",
      "22-06-2019  12:48             9,091 anaconda23.ipynb\n",
      "21-06-2019  15:32    <DIR>          Anaconda3\n",
      "21-06-2019  17:10             6,289 anaconda-Copy1.ipynb\n",
      "18-06-2019  09:03    <DIR>          Contacts\n",
      "22-06-2019  15:13            11,183 control flow statement.ipynb\n",
      "22-06-2019  15:24            11,183 control flow statement-Copy1.ipynb\n",
      "22-06-2019  15:37            11,612 controlflow.ipynb\n",
      "05-07-2019  11:00    <DIR>          Desktop\n",
      "05-07-2019  15:21    <DIR>          Documents\n",
      "05-07-2019  14:28    <DIR>          Downloads\n",
      "18-06-2019  09:03    <DIR>          Favorites\n",
      "11-07-2019  09:29               140 file.txt\n",
      "11-07-2019  09:44                13 file1.txt\n",
      "27-06-2019  17:07               440 file2.txt\n",
      "11-07-2019  09:54               184 file3.txt\n",
      "10-07-2019  16:46            24,971 ghum.ipynb\n",
      "10-07-2019  16:45            24,971 hub.ipynb\n",
      "24-06-2019  17:14            14,929 june 24.ipynb\n",
      "25-06-2019  12:12             9,074 june 25.ipynb\n",
      "25-06-2019  15:52             4,133 JUNE 25-2.ipynb\n",
      "26-06-2019  17:03            17,876 JUNE 26.ipynb\n",
      "27-06-2019  17:08            11,010 june 27.ipynb\n",
      "28-06-2019  16:52            13,717 june 28.ipynb\n",
      "29-06-2019  12:20             4,955 june 29.ipynb\n",
      "18-06-2019  09:03    <DIR>          Links\n",
      "18-06-2019  09:03    <DIR>          Music\n",
      "24-06-2019  15:52            13,138 phython 24.06 .ipynb\n",
      "18-06-2019  09:03    <DIR>          Pictures\n",
      "11-07-2019  10:13                 0 r\n",
      "08-07-2019  15:49            19,753 rohit 77.ipynb\n",
      "10-07-2019  12:37             8,223 rohit100.ipynb\n",
      "10-07-2019  16:39            24,971 Rohit50.ipynb\n",
      "11-07-2019  12:30            11,695 rohit75.ipynb\n",
      "10-07-2019  16:47            24,971 Rohith.ipynb\n",
      "18-06-2019  09:03    <DIR>          Saved Games\n",
      "22-06-2019  09:33    <DIR>          Searches\n",
      "21-06-2019  17:09             6,289 Untitled.ipynb\n",
      "21-06-2019  15:57               798 Untitled1.ipynb\n",
      "22-06-2019  11:30                72 Untitled2.ipynb\n",
      "26-06-2019  14:38             2,264 Untitled3.ipynb\n",
      "29-06-2019  09:04                72 Untitled4.ipynb\n",
      "29-06-2019  09:07               555 Untitled5.ipynb\n",
      "06-07-2019  10:37             3,019 Untitled6.ipynb\n",
      "08-07-2019  10:55             9,350 Untitled7.ipynb\n",
      "09-07-2019  10:04             5,046 Untitled8.ipynb\n",
      "11-07-2019  09:18             1,422 Untitled9.ipynb\n",
      "18-06-2019  09:03    <DIR>          Videos\n",
      "              38 File(s)        314,607 bytes\n",
      "              21 Dir(s)  128,410,845,184 bytes free\n"
     ]
    }
   ],
   "source": [
    "ls\n"
   ]
  },
  {
   "cell_type": "markdown",
   "metadata": {},
   "source": [
    "- Older version Pyhton -- os.listdir()\n",
    "- new version Python -- os.listdir"
   ]
  },
  {
   "cell_type": "markdown",
   "metadata": {},
   "source": [
    "### Creating a Single Directory\n",
    "\n"
   ]
  },
  {
   "cell_type": "code",
   "execution_count": 5,
   "metadata": {},
   "outputs": [],
   "source": [
    "os.mkdir('Single directory')"
   ]
  },
  {
   "cell_type": "code",
   "execution_count": 6,
   "metadata": {},
   "outputs": [
    {
     "name": "stdout",
     "output_type": "stream",
     "text": [
      " Volume in drive C has no label.\n",
      " Volume Serial Number is 0024-3261\n",
      "\n",
      " Directory of C:\\Users\\student\n",
      "\n",
      "11-07-2019  14:46    <DIR>          .\n",
      "11-07-2019  14:46    <DIR>          ..\n",
      "21-06-2019  15:32    <DIR>          .anaconda\n",
      "25-06-2019  16:08               572 .bash_history\n",
      "29-06-2019  15:18    <DIR>          .conda\n",
      "29-06-2019  09:04                43 .condarc\n",
      "29-06-2019  10:31    <DIR>          .idlerc\n",
      "11-07-2019  09:18    <DIR>          .ipynb_checkpoints\n",
      "21-06-2019  15:33    <DIR>          .ipython\n",
      "22-06-2019  09:13    <DIR>          .jupyter\n",
      "28-06-2019  15:28    <DIR>          .matplotlib\n",
      "21-06-2019  17:20             6,583 anaconda.ipynb\n",
      "22-06-2019  12:48             9,091 anaconda23.ipynb\n",
      "21-06-2019  15:32    <DIR>          Anaconda3\n",
      "21-06-2019  17:10             6,289 anaconda-Copy1.ipynb\n",
      "18-06-2019  09:03    <DIR>          Contacts\n",
      "22-06-2019  15:13            11,183 control flow statement.ipynb\n",
      "22-06-2019  15:24            11,183 control flow statement-Copy1.ipynb\n",
      "22-06-2019  15:37            11,612 controlflow.ipynb\n",
      "05-07-2019  11:00    <DIR>          Desktop\n",
      "05-07-2019  15:21    <DIR>          Documents\n",
      "05-07-2019  14:28    <DIR>          Downloads\n",
      "18-06-2019  09:03    <DIR>          Favorites\n",
      "11-07-2019  09:29               140 file.txt\n",
      "11-07-2019  09:44                13 file1.txt\n",
      "27-06-2019  17:07               440 file2.txt\n",
      "11-07-2019  09:54               184 file3.txt\n",
      "10-07-2019  16:46            24,971 ghum.ipynb\n",
      "10-07-2019  16:45            24,971 hub.ipynb\n",
      "24-06-2019  17:14            14,929 june 24.ipynb\n",
      "25-06-2019  12:12             9,074 june 25.ipynb\n",
      "25-06-2019  15:52             4,133 JUNE 25-2.ipynb\n",
      "26-06-2019  17:03            17,876 JUNE 26.ipynb\n",
      "27-06-2019  17:08            11,010 june 27.ipynb\n",
      "28-06-2019  16:52            13,717 june 28.ipynb\n",
      "29-06-2019  12:20             4,955 june 29.ipynb\n",
      "18-06-2019  09:03    <DIR>          Links\n",
      "18-06-2019  09:03    <DIR>          Music\n",
      "24-06-2019  15:52            13,138 phython 24.06 .ipynb\n",
      "18-06-2019  09:03    <DIR>          Pictures\n",
      "11-07-2019  10:13                 0 r\n",
      "08-07-2019  15:49            19,753 rohit 77.ipynb\n",
      "10-07-2019  12:37             8,223 rohit100.ipynb\n",
      "10-07-2019  16:39            24,971 Rohit50.ipynb\n",
      "11-07-2019  14:46            16,177 rohit75.ipynb\n",
      "10-07-2019  16:47            24,971 Rohith.ipynb\n",
      "18-06-2019  09:03    <DIR>          Saved Games\n",
      "22-06-2019  09:33    <DIR>          Searches\n",
      "11-07-2019  14:36    <DIR>          Single directory\n",
      "21-06-2019  17:09             6,289 Untitled.ipynb\n",
      "21-06-2019  15:57               798 Untitled1.ipynb\n",
      "22-06-2019  11:30                72 Untitled2.ipynb\n",
      "26-06-2019  14:38             2,264 Untitled3.ipynb\n",
      "29-06-2019  09:04                72 Untitled4.ipynb\n",
      "29-06-2019  09:07               555 Untitled5.ipynb\n",
      "06-07-2019  10:37             3,019 Untitled6.ipynb\n",
      "08-07-2019  10:55             9,350 Untitled7.ipynb\n",
      "09-07-2019  10:04             5,046 Untitled8.ipynb\n",
      "11-07-2019  09:18             1,422 Untitled9.ipynb\n",
      "18-06-2019  09:03    <DIR>          Videos\n",
      "              38 File(s)        319,089 bytes\n",
      "              22 Dir(s)  128,377,978,880 bytes free\n"
     ]
    }
   ],
   "source": [
    "ls"
   ]
  },
  {
   "cell_type": "markdown",
   "metadata": {},
   "source": [
    "### Creating Multiple Directories"
   ]
  },
  {
   "cell_type": "code",
   "execution_count": 7,
   "metadata": {},
   "outputs": [],
   "source": [
    "import os\n",
    "os.makedirs('2019/july/11')"
   ]
  },
  {
   "cell_type": "code",
   "execution_count": 8,
   "metadata": {},
   "outputs": [
    {
     "name": "stdout",
     "output_type": "stream",
     "text": [
      " Volume in drive C has no label.\n",
      " Volume Serial Number is 0024-3261\n",
      "\n",
      " Directory of C:\\Users\\student\n",
      "\n",
      "11-07-2019  14:51    <DIR>          .\n",
      "11-07-2019  14:51    <DIR>          ..\n",
      "21-06-2019  15:32    <DIR>          .anaconda\n",
      "25-06-2019  16:08               572 .bash_history\n",
      "29-06-2019  15:18    <DIR>          .conda\n",
      "29-06-2019  09:04                43 .condarc\n",
      "29-06-2019  10:31    <DIR>          .idlerc\n",
      "11-07-2019  09:18    <DIR>          .ipynb_checkpoints\n",
      "21-06-2019  15:33    <DIR>          .ipython\n",
      "22-06-2019  09:13    <DIR>          .jupyter\n",
      "28-06-2019  15:28    <DIR>          .matplotlib\n",
      "11-07-2019  14:51    <DIR>          2019\n",
      "21-06-2019  17:20             6,583 anaconda.ipynb\n",
      "22-06-2019  12:48             9,091 anaconda23.ipynb\n",
      "21-06-2019  15:32    <DIR>          Anaconda3\n",
      "21-06-2019  17:10             6,289 anaconda-Copy1.ipynb\n",
      "18-06-2019  09:03    <DIR>          Contacts\n",
      "22-06-2019  15:13            11,183 control flow statement.ipynb\n",
      "22-06-2019  15:24            11,183 control flow statement-Copy1.ipynb\n",
      "22-06-2019  15:37            11,612 controlflow.ipynb\n",
      "05-07-2019  11:00    <DIR>          Desktop\n",
      "05-07-2019  15:21    <DIR>          Documents\n",
      "05-07-2019  14:28    <DIR>          Downloads\n",
      "18-06-2019  09:03    <DIR>          Favorites\n",
      "11-07-2019  09:29               140 file.txt\n",
      "11-07-2019  09:44                13 file1.txt\n",
      "27-06-2019  17:07               440 file2.txt\n",
      "11-07-2019  09:54               184 file3.txt\n",
      "10-07-2019  16:46            24,971 ghum.ipynb\n",
      "10-07-2019  16:45            24,971 hub.ipynb\n",
      "24-06-2019  17:14            14,929 june 24.ipynb\n",
      "25-06-2019  12:12             9,074 june 25.ipynb\n",
      "25-06-2019  15:52             4,133 JUNE 25-2.ipynb\n",
      "26-06-2019  17:03            17,876 JUNE 26.ipynb\n",
      "27-06-2019  17:08            11,010 june 27.ipynb\n",
      "28-06-2019  16:52            13,717 june 28.ipynb\n",
      "29-06-2019  12:20             4,955 june 29.ipynb\n",
      "18-06-2019  09:03    <DIR>          Links\n",
      "18-06-2019  09:03    <DIR>          Music\n",
      "24-06-2019  15:52            13,138 phython 24.06 .ipynb\n",
      "18-06-2019  09:03    <DIR>          Pictures\n",
      "11-07-2019  10:13                 0 r\n",
      "08-07-2019  15:49            19,753 rohit 77.ipynb\n",
      "10-07-2019  12:37             8,223 rohit100.ipynb\n",
      "10-07-2019  16:39            24,971 Rohit50.ipynb\n",
      "11-07-2019  14:50            20,235 rohit75.ipynb\n",
      "10-07-2019  16:47            24,971 Rohith.ipynb\n",
      "18-06-2019  09:03    <DIR>          Saved Games\n",
      "22-06-2019  09:33    <DIR>          Searches\n",
      "11-07-2019  14:36    <DIR>          Single directory\n",
      "21-06-2019  17:09             6,289 Untitled.ipynb\n",
      "21-06-2019  15:57               798 Untitled1.ipynb\n",
      "22-06-2019  11:30                72 Untitled2.ipynb\n",
      "26-06-2019  14:38             2,264 Untitled3.ipynb\n",
      "29-06-2019  09:04                72 Untitled4.ipynb\n",
      "29-06-2019  09:07               555 Untitled5.ipynb\n",
      "06-07-2019  10:37             3,019 Untitled6.ipynb\n",
      "08-07-2019  10:55             9,350 Untitled7.ipynb\n",
      "09-07-2019  10:04             5,046 Untitled8.ipynb\n",
      "11-07-2019  09:18             1,422 Untitled9.ipynb\n",
      "18-06-2019  09:03    <DIR>          Videos\n",
      "              38 File(s)        323,147 bytes\n",
      "              23 Dir(s)  128,378,003,456 bytes free\n"
     ]
    }
   ],
   "source": [
    "ls\n"
   ]
  },
  {
   "cell_type": "code",
   "execution_count": 10,
   "metadata": {},
   "outputs": [
    {
     "ename": "NameError",
     "evalue": "name 'dirPath' is not defined",
     "output_type": "error",
     "traceback": [
      "\u001b[1;31m---------------------------------------------------------------------------\u001b[0m",
      "\u001b[1;31mNameError\u001b[0m                                 Traceback (most recent call last)",
      "\u001b[1;32m<ipython-input-10-d36a4e5f9c51>\u001b[0m in \u001b[0;36m<module>\u001b[1;34m\u001b[0m\n\u001b[0;32m      1\u001b[0m \u001b[1;32mimport\u001b[0m \u001b[0mos\u001b[0m\u001b[1;33m\u001b[0m\u001b[1;33m\u001b[0m\u001b[0m\n\u001b[0;32m      2\u001b[0m \u001b[0mdirpath\u001b[0m \u001b[1;33m=\u001b[0m \u001b[1;34m'Git/'\u001b[0m\u001b[1;33m\u001b[0m\u001b[1;33m\u001b[0m\u001b[0m\n\u001b[1;32m----> 3\u001b[1;33m \u001b[1;32mfor\u001b[0m \u001b[0mf_name\u001b[0m \u001b[1;32min\u001b[0m \u001b[0mos\u001b[0m\u001b[1;33m.\u001b[0m\u001b[0mlistdir\u001b[0m\u001b[1;33m(\u001b[0m\u001b[0mdirPath\u001b[0m\u001b[1;33m)\u001b[0m\u001b[1;33m:\u001b[0m\u001b[1;33m\u001b[0m\u001b[1;33m\u001b[0m\u001b[0m\n\u001b[0m\u001b[0;32m      4\u001b[0m     \u001b[1;32mif\u001b[0m \u001b[0mf_name\u001b[0m\u001b[1;33m.\u001b[0m\u001b[0mendswitch\u001b[0m\u001b[1;33m(\u001b[0m\u001b[1;34m'.ipynb'\u001b[0m\u001b[1;33m)\u001b[0m\u001b[1;33m:\u001b[0m\u001b[1;33m\u001b[0m\u001b[1;33m\u001b[0m\u001b[0m\n\u001b[0;32m      5\u001b[0m         \u001b[0mprint\u001b[0m\u001b[1;33m(\u001b[0m\u001b[0mf_name\u001b[0m\u001b[1;33m)\u001b[0m\u001b[1;33m\u001b[0m\u001b[1;33m\u001b[0m\u001b[0m\n",
      "\u001b[1;31mNameError\u001b[0m: name 'dirPath' is not defined"
     ]
    }
   ],
   "source": [
    "import os\n",
    "dirpath = 'Git/'\n",
    "for f_name in os.listdir(dirPath):\n",
    "    if f_name.endswitch('.ipynb'):\n",
    "        print(f_name)"
   ]
  },
  {
   "cell_type": "code",
   "execution_count": 11,
   "metadata": {},
   "outputs": [
    {
     "ename": "OSError",
     "evalue": "[WinError 145] The directory is not empty: '2019'",
     "output_type": "error",
     "traceback": [
      "\u001b[1;31m---------------------------------------------------------------------------\u001b[0m",
      "\u001b[1;31mOSError\u001b[0m                                   Traceback (most recent call last)",
      "\u001b[1;32m<ipython-input-11-0e45805cb9e1>\u001b[0m in \u001b[0;36m<module>\u001b[1;34m\u001b[0m\n\u001b[0;32m      1\u001b[0m \u001b[0mdata_dir\u001b[0m \u001b[1;33m=\u001b[0m \u001b[1;34m'2019'\u001b[0m\u001b[1;33m\u001b[0m\u001b[1;33m\u001b[0m\u001b[0m\n\u001b[1;32m----> 2\u001b[1;33m \u001b[0mos\u001b[0m\u001b[1;33m.\u001b[0m\u001b[0mrmdir\u001b[0m\u001b[1;33m(\u001b[0m\u001b[0mdata_dir\u001b[0m\u001b[1;33m)\u001b[0m\u001b[1;33m\u001b[0m\u001b[1;33m\u001b[0m\u001b[0m\n\u001b[0m",
      "\u001b[1;31mOSError\u001b[0m: [WinError 145] The directory is not empty: '2019'"
     ]
    }
   ],
   "source": [
    "data_dir = '2019'\n",
    "os.rmdir(data_dir)"
   ]
  },
  {
   "cell_type": "code",
   "execution_count": null,
   "metadata": {},
   "outputs": [],
   "source": []
  }
 ],
 "metadata": {
  "kernelspec": {
   "display_name": "Python 3",
   "language": "python",
   "name": "python3"
  },
  "language_info": {
   "codemirror_mode": {
    "name": "ipython",
    "version": 3
   },
   "file_extension": ".py",
   "mimetype": "text/x-python",
   "name": "python",
   "nbconvert_exporter": "python",
   "pygments_lexer": "ipython3",
   "version": "3.7.3"
  }
 },
 "nbformat": 4,
 "nbformat_minor": 2
}
