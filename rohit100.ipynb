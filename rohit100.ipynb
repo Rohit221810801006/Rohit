{
 "cells": [
  {
   "cell_type": "markdown",
   "metadata": {},
   "source": [
    "# Python Data Structures\n",
    "\n",
    "## Lists\n",
    "\n",
    "* Its one of common data structures supports by python,the list items are sperated by comma operator and enclosed in square brackets\n",
    "   * Example :\n",
    "   ** list1=[1,6,2,18,9]**list"
   ]
  },
  {
   "cell_type": "code",
   "execution_count": 2,
   "metadata": {},
   "outputs": [
    {
     "name": "stdout",
     "output_type": "stream",
     "text": [
      "['Gitam', 'python', 2019, 2002]\n",
      "['Gitam', 'python', 2002]\n"
     ]
    }
   ],
   "source": [
    "# delete the specific item in list\n",
    "print(li)\n",
    "del li[2]\n",
    "print(li)\n"
   ]
  },
  {
   "cell_type": "code",
   "execution_count": 7,
   "metadata": {},
   "outputs": [
    {
     "name": "stdout",
     "output_type": "stream",
     "text": [
      "5\n",
      "[1, 9, 6, 18, 2, 1, 9, 6, 18, 2]\n",
      "False\n",
      "True\n",
      "1 9 6 18 2 "
     ]
    }
   ],
   "source": [
    "# Basic list of operations\n",
    "lst1=[1,9,6,18,2]\n",
    "print(len(lst1)) # len of list\n",
    "print(lst1 * 2) # Repetation\n",
    "print(16 in lst1)\n",
    "print(9 in lst1)\n",
    "for x in range(len(lst1)):\n",
    "    print(lst1[x],end=' ')"
   ]
  },
  {
   "cell_type": "code",
   "execution_count": 10,
   "metadata": {},
   "outputs": [
    {
     "name": "stdout",
     "output_type": "stream",
     "text": [
      "1\n",
      "18\n",
      "36\n",
      "7\n",
      "13\n"
     ]
    }
   ],
   "source": [
    "# Function of the list\n",
    "lst1\n",
    "print(min(lst1)) # Min item/element of the list\n",
    "print(max(lst1)) # max element of the list\n",
    "print(sum(lst1)) # sum of all element of the list\n",
    "print(sum(lst1)//len(lst1)) # Average of list elements\n",
    "print(sum(lst1[1::2])//len(lst1[1::2])) # Average of all item"
   ]
  },
  {
   "cell_type": "code",
   "execution_count": 21,
   "metadata": {},
   "outputs": [
    {
     "data": {
      "text/plain": [
       "[1,\n",
       " 2,\n",
       " 6,\n",
       " 9,\n",
       " 18,\n",
       " 24,\n",
       " 24,\n",
       " 24,\n",
       " 24,\n",
       " 24,\n",
       " 24,\n",
       " 24,\n",
       " 24,\n",
       " 24,\n",
       " 24,\n",
       " 24,\n",
       " 56,\n",
       " 56,\n",
       " 56,\n",
       " 56,\n",
       " 56,\n",
       " 56,\n",
       " 56,\n",
       " 56,\n",
       " 56,\n",
       " 56]"
      ]
     },
     "execution_count": 21,
     "metadata": {},
     "output_type": "execute_result"
    }
   ],
   "source": [
    "lst1\n",
    "lst1.append(24) # Adding a new element at the end of the lsit\n",
    "lst1\n",
    "lst1.insert(2,56) # Adding an element at particular index\n",
    "lst1\n",
    "lst1.count(18) # return the value how many times the object repeated\n",
    "lst1.index(56)\n",
    "lst1.sort() # It's sort the list in ascending order\n",
    "lst1"
   ]
  },
  {
   "cell_type": "code",
   "execution_count": 22,
   "metadata": {},
   "outputs": [
    {
     "name": "stdout",
     "output_type": "stream",
     "text": [
      "[3, 2, 9]\n"
     ]
    }
   ],
   "source": [
    "li = [1,9,8,2,6,3]\n",
    "print(li[-1:0:-2])"
   ]
  },
  {
   "cell_type": "code",
   "execution_count": 26,
   "metadata": {},
   "outputs": [
    {
     "name": "stdout",
     "output_type": "stream",
     "text": [
      "1 9 19 22 "
     ]
    }
   ],
   "source": [
    "# Fuction\n",
    "# Input : List\n",
    "# Output : Formatted Output\n",
    "# test cases :\n",
    "# [1,6,9,4,16,19,22] -- 1 9 19 22\n",
    "def linearSearch6(li):\n",
    "    # Implement the topic\n",
    "    for x in range(len(li)):\n",
    "        if x == 0 or x == len(li) - 1:\n",
    "            print(li[x],end=\" \")\n",
    "        elif li[x-1] % 2 == 0 and li[x+1] % 2 == 0:\n",
    "            print(li[x],end=\" \")\n",
    "    return\n",
    "li = [1,6,9,4,16,19,22]\n",
    "linearSearch6(li) # 1 9 19 22"
   ]
  },
  {
   "cell_type": "markdown",
   "metadata": {},
   "source": [
    "# Number to list\n",
    "\n",
    "* Input as number\n",
    "* Expected output will be list"
   ]
  },
  {
   "cell_type": "code",
   "execution_count": 30,
   "metadata": {},
   "outputs": [
    {
     "data": {
      "text/plain": [
       "[9]"
      ]
     },
     "execution_count": 30,
     "metadata": {},
     "output_type": "execute_result"
    }
   ],
   "source": [
    "# Function for conversion - Number to list \n",
    "# Input -- Number\n",
    "# Output -- list\n",
    "# Test case\n",
    "# 14569 -- [1,4,5,6,9]\n",
    "# 1990 -- [1,9,9,0]\n",
    "def numberListsconversion(n):\n",
    "    li = []\n",
    "    while n != 0:\n",
    "        r = n % 10\n",
    "        li.append(r)\n",
    "        n = n // 10\n",
    "        li.reverse()\n",
    "        return li\n",
    "numberListsconversion(14569)#[1,4,5,6,9]"
   ]
  },
  {
   "cell_type": "code",
   "execution_count": 33,
   "metadata": {},
   "outputs": [
    {
     "data": {
      "text/plain": [
       "0"
      ]
     },
     "execution_count": 33,
     "metadata": {},
     "output_type": "execute_result"
    }
   ],
   "source": [
    "# Fuction to count occurances of a character in a string\n",
    "# \"Python Programming\", p -> 2\n",
    "# \"Python Programming\", m -> 2\n",
    "def countcharoccurances(s,c):\n",
    "    cnt=0\n",
    "    for ch in s:\n",
    "        if ch == cnt:\n",
    "            cnt += 1\n",
    "    return cnt\n",
    "def countcharoccurances1(s,c):\n",
    "    return s.count(s)\n",
    "countcharoccurances(\"Python Programming\",'m')"
   ]
  },
  {
   "cell_type": "markdown",
   "metadata": {},
   "source": [
    "# String to list conversion\n",
    "\n",
    "* Input will be string\n",
    "* Expected output will be last"
   ]
  },
  {
   "cell_type": "code",
   "execution_count": 35,
   "metadata": {},
   "outputs": [
    {
     "data": {
      "text/plain": [
       "[1, 2, 3, 4, 5, 6]"
      ]
     },
     "execution_count": 35,
     "metadata": {},
     "output_type": "execute_result"
    }
   ],
   "source": [
    "# Fuction to convert the string to list \n",
    "# tset cases\n",
    "# \"1 2 3 4 5 6\" -- [1 2 3 4 5 6]\n",
    "def stringtolistconversion(s):\n",
    "    li = s.split()\n",
    "    numberslist = []\n",
    "    for i in li:\n",
    "        numberslist.append(int(i))\n",
    "    return numberslist\n",
    "s =\"1 2 3 4 5 6\"\n",
    "stringtolistconversion(s) #[1 2 3 4 5 6]\n"
   ]
  },
  {
   "cell_type": "markdown",
   "metadata": {},
   "source": [
    "### Sorting Algorithms\n",
    "\n",
    "* Bubble sort\n",
    "* Selection sort\n",
    "* Insertion sort"
   ]
  },
  {
   "cell_type": "markdown",
   "metadata": {},
   "source": [
    "###  Bubble sort\n",
    "\n",
    "* this algorithm compare the adj elements,if the first element is greater\n",
    "* Than second element requried than its requried to swap the elements "
   ]
  },
  {
   "cell_type": "code",
   "execution_count": 36,
   "metadata": {},
   "outputs": [
    {
     "data": {
      "text/plain": [
       "[1, 3, 6, 18, 19, 25]"
      ]
     },
     "execution_count": 36,
     "metadata": {},
     "output_type": "execute_result"
    }
   ],
   "source": [
    "# Fuction to represent the bubble sort\n",
    "def bubbleSort(li):\n",
    "   for i in range(len(li)-1):\n",
    "       for j in range(len(li)-1):\n",
    "           if li[j] > li[j+1]:\n",
    "               li[j],li[j+1] = li[j+1],li[j]\n",
    "   return li\n",
    "li = [19,1,25,6,18,3]\n",
    "bubbleSort(li)\n"
   ]
  },
  {
   "cell_type": "code",
   "execution_count": null,
   "metadata": {},
   "outputs": [],
   "source": []
  },
  {
   "cell_type": "code",
   "execution_count": null,
   "metadata": {},
   "outputs": [],
   "source": []
  },
  {
   "cell_type": "code",
   "execution_count": null,
   "metadata": {},
   "outputs": [],
   "source": []
  },
  {
   "cell_type": "code",
   "execution_count": null,
   "metadata": {},
   "outputs": [],
   "source": [
    "   "
   ]
  },
  {
   "cell_type": "code",
   "execution_count": null,
   "metadata": {},
   "outputs": [],
   "source": []
  },
  {
   "cell_type": "code",
   "execution_count": null,
   "metadata": {},
   "outputs": [],
   "source": []
  },
  {
   "cell_type": "code",
   "execution_count": null,
   "metadata": {},
   "outputs": [],
   "source": []
  },
  {
   "cell_type": "code",
   "execution_count": null,
   "metadata": {},
   "outputs": [],
   "source": []
  },
  {
   "cell_type": "code",
   "execution_count": null,
   "metadata": {},
   "outputs": [],
   "source": []
  },
  {
   "cell_type": "code",
   "execution_count": null,
   "metadata": {},
   "outputs": [],
   "source": []
  },
  {
   "cell_type": "code",
   "execution_count": null,
   "metadata": {},
   "outputs": [],
   "source": []
  },
  {
   "cell_type": "code",
   "execution_count": null,
   "metadata": {},
   "outputs": [],
   "source": []
  }
 ],
 "metadata": {
  "kernelspec": {
   "display_name": "Python 3",
   "language": "python",
   "name": "python3"
  },
  "language_info": {
   "codemirror_mode": {
    "name": "ipython",
    "version": 3
   },
   "file_extension": ".py",
   "mimetype": "text/x-python",
   "name": "python",
   "nbconvert_exporter": "python",
   "pygments_lexer": "ipython3",
   "version": "3.7.3"
  }
 },
 "nbformat": 4,
 "nbformat_minor": 2
}
