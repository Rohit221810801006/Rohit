{
 "cells": [
  {
   "cell_type": "code",
   "execution_count": 1,
   "metadata": {},
   "outputs": [
    {
     "name": "stdout",
     "output_type": "stream",
     "text": [
      "Enter a number3\n",
      "Enter a number4\n",
      "Enter a number5\n",
      "a3 is large\n"
     ]
    }
   ],
   "source": [
    "# Find largest number\n",
    "a1 = int(input(\"Enter a number\"))\n",
    "a2 = int(input(\"Enter a number\"))\n",
    "a3 = int(input(\"Enter a number\"))\n",
    "if a1>a2 and a1>a3 :\n",
    "    print(\"a1 is large\")\n",
    "elif a2>a1 and a2>a3 :\n",
    "    print(\"a2 is large\")\n",
    "else :\n",
    "    print(\"a3 is large\")\n",
    "    \n",
    "    "
   ]
  },
  {
   "cell_type": "code",
   "execution_count": 3,
   "metadata": {},
   "outputs": [
    {
     "name": "stdout",
     "output_type": "stream",
     "text": [
      "Gitam\n",
      "Gitam\n",
      "Gitam\n",
      "Gitam\n"
     ]
    }
   ],
   "source": [
    "# Need print \"Gitam\" for 4 times\n",
    "print(\"Gitam\")\n",
    "print(\"Gitam\")\n",
    "print(\"Gitam\")\n",
    "print(\"Gitam\")"
   ]
  },
  {
   "cell_type": "code",
   "execution_count": 4,
   "metadata": {},
   "outputs": [
    {
     "name": "stdout",
     "output_type": "stream",
     "text": [
      "Enter the number4\n",
      "1 2 3 4 "
     ]
    }
   ],
   "source": [
    "# print n natural numbers using while loop\n",
    "# input - 10\n",
    "# output - 123...10\n",
    "n = int(input(\"Enter the number\"))\n",
    "i = 1\n",
    "while i <= n:\n",
    "    print(i,end = \" \")\n",
    "    i = i + 1"
   ]
  },
  {
   "cell_type": "code",
   "execution_count": null,
   "metadata": {},
   "outputs": [
    {
     "name": "stdout",
     "output_type": "stream",
     "text": [
      "Enter a number 10\n"
     ]
    }
   ],
   "source": [
    "# Read a number --n\n",
    "# add only even numbers between 1 to n\n",
    "# Input --10\n",
    "# Output --#30(2 + 4 + 6 + 8 + 10)\n",
    "n = int(input(\"Enter a number \"))\n",
    "i = 1\n",
    "while i <= n:\n",
    "    if i % 2 == 0:\n",
    "        sum = sum + i\n",
    "        i = i + 1\n",
    "        print(sum)"
   ]
  },
  {
   "cell_type": "code",
   "execution_count": 1,
   "metadata": {
    "collapsed": true
   },
   "outputs": [
    {
     "name": "stdout",
     "output_type": "stream",
     "text": [
      "Enter the number 123\n",
      "3 2 1 "
     ]
    }
   ],
   "source": [
    "# Number as a Number -- 123\n",
    "# Print the digits of given number : 3 2 1\n",
    "n = int(input(\"Enter the number \"))\n",
    "while n != 0:\n",
    "    r = n % 10\n",
    "    print(r,end = \" \")\n",
    "    n = n // 10"
   ]
  },
  {
   "cell_type": "markdown",
   "metadata": {},
   "source": [
    "### Functional Programming \n",
    "* single\n",
    "* Easy read\n",
    "* Lengthy program divdes into sub programs"
   ]
  },
  {
   "cell_type": "code",
   "execution_count": 1,
   "metadata": {},
   "outputs": [],
   "source": [
    "def nameoftheFuction(Parameters):\n",
    "    Statement\n",
    "    return"
   ]
  },
  {
   "cell_type": "code",
   "execution_count": 10,
   "metadata": {},
   "outputs": [
    {
     "data": {
      "text/plain": [
       "6"
      ]
     },
     "execution_count": 10,
     "metadata": {},
     "output_type": "execute_result"
    }
   ],
   "source": [
    "# Read a number -- 1234\n",
    "# output -- 6(2+4)\n",
    "def addEvenDigits(n):\n",
    "    sum = 0\n",
    "    while n!=0:\n",
    "        r = n % 10\n",
    "        if r % 2 == 0:\n",
    "            sum = sum + r\n",
    "        n = n // 10\n",
    "    return sum\n",
    "addEvenDigits(1234)\n"
   ]
  },
  {
   "cell_type": "code",
   "execution_count": 11,
   "metadata": {},
   "outputs": [
    {
     "data": {
      "text/plain": [
       "9"
      ]
     },
     "execution_count": 11,
     "metadata": {},
     "output_type": "execute_result"
    }
   ],
   "source": [
    "# Read a number -- 19528\n",
    "# Print the large digit print the number\n",
    "def printlarge(n):\n",
    "    large = 0\n",
    "    while n != 0:\n",
    "        r = n % 10\n",
    "        if large < r:\n",
    "            large = r\n",
    "        n = n // 10\n",
    "    return large\n",
    "printlarge(19528) "
   ]
  },
  {
   "cell_type": "code",
   "execution_count": null,
   "metadata": {},
   "outputs": [],
   "source": [
    "# Read a number input\n",
    "# Output reverse of the given number \n",
    "# 123 -- 321\n",
    "def reversenumber(n):\n",
    "    rev = 0\n",
    "    while n != 0:\n",
    "         r = n % 10\n",
    "    rev = rev * 10 + r\n",
    "    n = n // 10\n",
    "    return rev\n",
    "reversenumber(123)"
   ]
  },
  {
   "cell_type": "code",
   "execution_count": null,
   "metadata": {},
   "outputs": [],
   "source": [
    "# Given number is palindrome or not\n",
    "# Input \n",
    "# 123 -- 321 -- no\n",
    "#121 -- 121 -- yes\n",
    "def ispalindrome(n):\n",
    "    rev = 0\n",
    "    buffer = 0\n",
    "    while n != 0:\n",
    "        r = n % 10\n",
    "        rev = rev * 10 + r\n",
    "        n = n // 10\n",
    "        if buffer == rev:\n",
    "            return \"Yes\"\n",
    "        else:\n",
    "            return \"No\"\n",
    "        \n",
    "print(ispalindrome(123))\n",
    "print(ispalindrome(121)\n",
    "\n",
    "            \n"
   ]
  },
  {
   "cell_type": "code",
   "execution_count": 2,
   "metadata": {},
   "outputs": [
    {
     "name": "stdout",
     "output_type": "stream",
     "text": [
      "1 2 3 4 5 6 7 8 9 10 "
     ]
    }
   ],
   "source": [
    "# Fuction to print N natural numbers with for loop\n",
    "def printNnaturalnumbers(n):\n",
    "    for x in range(1,n+1):\n",
    "        print(x,end=\" \")\n",
    "    return\n",
    "printNnaturalnumbers(10)"
   ]
  },
  {
   "cell_type": "code",
   "execution_count": 5,
   "metadata": {},
   "outputs": [
    {
     "name": "stdout",
     "output_type": "stream",
     "text": [
      "11 12 13 14 15 16 17 18 19 20 21 22 23 24 25 "
     ]
    }
   ],
   "source": [
    "# Fuction to print the numbers between two lists\n",
    "# input : 11,25\n",
    "# ouput : 11 12 13 ................. 25\n",
    "def printseries(lb,ub):\n",
    "    for x in range(lb,ub+1):\n",
    "        print(x,end=\" \")\n",
    "    \n",
    "    return\n",
    "printseries(11,25)"
   ]
  },
  {
   "cell_type": "code",
   "execution_count": 6,
   "metadata": {},
   "outputs": [
    {
     "name": "stdout",
     "output_type": "stream",
     "text": [
      "100 104 108 112 116 120 124 128 132 136 140 144 148 "
     ]
    }
   ],
   "source": [
    "# Function to print alternate number\n",
    "# [500,520] -- 500 502 504 506 ............. 520\n",
    "# [100,150] -- 100 104 108 112 116\n",
    "def alternatenumber(lb,ub) :\n",
    "    for x in range(lb,ub+1,4):\n",
    "        print(x,end=\" \")\n",
    "    return\n",
    "alternatenumber(100,150)"
   ]
  },
  {
   "cell_type": "code",
   "execution_count": 8,
   "metadata": {},
   "outputs": [
    {
     "name": "stdout",
     "output_type": "stream",
     "text": [
      "10 9 8 7 6 5 4 3 2 1 "
     ]
    }
   ],
   "source": [
    "# Fuction to print the series in reverse\n",
    "# input -- 1,10\n",
    "# output : 10 9 8 7 ..... 1\n",
    "def reverseseries(start,end) :\n",
    "        for x in range(end,start-1,-1):\n",
    "            print(x,end=\" \")\n",
    "        return\n",
    "reverseseries(1,10)\n",
    "            \n",
    "    \n",
    "    \n"
   ]
  },
  {
   "cell_type": "code",
   "execution_count": null,
   "metadata": {},
   "outputs": [],
   "source": []
  }
 ],
 "metadata": {
  "kernelspec": {
   "display_name": "Python 3",
   "language": "python",
   "name": "python3"
  },
  "language_info": {
   "codemirror_mode": {
    "name": "ipython",
    "version": 3
   },
   "file_extension": ".py",
   "mimetype": "text/x-python",
   "name": "python",
   "nbconvert_exporter": "python",
   "pygments_lexer": "ipython3",
   "version": "3.7.3"
  }
 },
 "nbformat": 4,
 "nbformat_minor": 2
}
